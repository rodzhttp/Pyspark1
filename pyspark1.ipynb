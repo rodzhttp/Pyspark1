{
  "nbformat": 4,
  "nbformat_minor": 0,
  "metadata": {
    "colab": {
      "provenance": [],
      "mount_file_id": "1afNgDoeDhaRb2ymN6fWmQMILzDDv95hg",
      "authorship_tag": "ABX9TyMDqLbIjVhNqzeEMJqjw56m",
      "include_colab_link": true
    },
    "kernelspec": {
      "name": "python3",
      "display_name": "Python 3"
    },
    "language_info": {
      "name": "python"
    }
  },
  "cells": [
    {
      "cell_type": "markdown",
      "metadata": {
        "id": "view-in-github",
        "colab_type": "text"
      },
      "source": [
        "<a href=\"https://colab.research.google.com/github/rodzhttp/Pyspark1/blob/main/pyspark1.ipynb\" target=\"_parent\"><img src=\"https://colab.research.google.com/assets/colab-badge.svg\" alt=\"Open In Colab\"/></a>"
      ]
    },
    {
      "cell_type": "markdown",
      "source": [
        "##**< Pyspark Project >**"
      ],
      "metadata": {
        "id": "Lrf572rQsolf"
      }
    },
    {
      "cell_type": "code",
      "execution_count": null,
      "metadata": {
        "colab": {
          "base_uri": "https://localhost:8080/"
        },
        "id": "Elzsx-hRrjze",
        "outputId": "e713e5e4-b11d-49c2-e7d9-ee7f2c7d1454"
      },
      "outputs": [
        {
          "output_type": "stream",
          "name": "stdout",
          "text": [
            "Requirement already satisfied: pyspark in /usr/local/lib/python3.11/dist-packages (3.5.1)\n",
            "Requirement already satisfied: findspark in /usr/local/lib/python3.11/dist-packages (2.0.1)\n",
            "Requirement already satisfied: py4j==0.10.9.7 in /usr/local/lib/python3.11/dist-packages (from pyspark) (0.10.9.7)\n",
            "✅ Sessão Spark iniciada com sucesso!\n"
          ]
        }
      ],
      "source": [
        "# Instala as bibliotecas necessárias\n",
        "!pip install pyspark findspark\n",
        "\n",
        "# Configura o ambiente para encontrar o Spark\n",
        "import findspark\n",
        "from google.colab import drive\n",
        "findspark.init()\n",
        "\n",
        "# Inicia a \"Sessão Spark\", que é o nosso motor para processar os dados\n",
        "from pyspark.sql import SparkSession\n",
        "spark = SparkSession.builder.master(\"local[*]\").appName(\"AnaliseVoos\").getOrCreate()\n",
        "\n",
        "print(\"✅ Sessão Spark iniciada com sucesso!\")"
      ]
    },
    {
      "cell_type": "code",
      "source": [
        "# O caminho para a pasta que contém seus arquivos\n",
        "caminho_base = '/content/drive/My Drive/Colab Notebooks/Pyspark project/'\n",
        "\n",
        "# Caminho completo para cada arquivo\n",
        "caminho_flights = caminho_base + 'flights.csv'\n",
        "caminho_airlines = caminho_base + 'airlines.csv'\n",
        "caminho_airports = caminho_base + 'airports.csv'\n",
        "\n",
        "# Lendo os arquivos para DataFrames\n",
        "df_flights = spark.read.csv(caminho_flights, header=True, inferSchema=True)\n",
        "df_airlines = spark.read.csv(caminho_airlines, header=True, inferSchema=True)\n",
        "df_airports = spark.read.csv(caminho_airports, header=True, inferSchema=True)\n",
        "\n",
        "display(df_flights.show(5))"
      ],
      "metadata": {
        "colab": {
          "base_uri": "https://localhost:8080/",
          "height": 245
        },
        "id": "p4Mdb-XPuub_",
        "outputId": "d5d06c77-0ae0-4885-cb17-3517f5b3d4ef"
      },
      "execution_count": 36,
      "outputs": [
        {
          "output_type": "stream",
          "name": "stdout",
          "text": [
            "+----+-----+---+-----------+-------+-------------+-----------+--------------+-------------------+-------------------+--------------+---------------+--------+----------+--------------+------------+--------+--------+---------+-------+-----------------+------------+-------------+--------+---------+-------------------+----------------+--------------+-------------+-------------------+-------------+\n",
            "|YEAR|MONTH|DAY|DAY_OF_WEEK|AIRLINE|FLIGHT_NUMBER|TAIL_NUMBER|ORIGIN_AIRPORT|DESTINATION_AIRPORT|SCHEDULED_DEPARTURE|DEPARTURE_TIME|DEPARTURE_DELAY|TAXI_OUT|WHEELS_OFF|SCHEDULED_TIME|ELAPSED_TIME|AIR_TIME|DISTANCE|WHEELS_ON|TAXI_IN|SCHEDULED_ARRIVAL|ARRIVAL_TIME|ARRIVAL_DELAY|DIVERTED|CANCELLED|CANCELLATION_REASON|AIR_SYSTEM_DELAY|SECURITY_DELAY|AIRLINE_DELAY|LATE_AIRCRAFT_DELAY|WEATHER_DELAY|\n",
            "+----+-----+---+-----------+-------+-------------+-----------+--------------+-------------------+-------------------+--------------+---------------+--------+----------+--------------+------------+--------+--------+---------+-------+-----------------+------------+-------------+--------+---------+-------------------+----------------+--------------+-------------+-------------------+-------------+\n",
            "|2015|    1|  1|          4|     AS|           98|     N407AS|           ANC|                SEA|                  5|          2354|            -11|      21|        15|           205|         194|     169|    1448|      404|      4|              430|         408|          -22|       0|        0|               NULL|            NULL|          NULL|         NULL|               NULL|         NULL|\n",
            "|2015|    1|  1|          4|     AA|         2336|     N3KUAA|           LAX|                PBI|                 10|             2|             -8|      12|        14|           280|         279|     263|    2330|      737|      4|              750|         741|           -9|       0|        0|               NULL|            NULL|          NULL|         NULL|               NULL|         NULL|\n",
            "|2015|    1|  1|          4|     US|          840|     N171US|           SFO|                CLT|                 20|            18|             -2|      16|        34|           286|         293|     266|    2296|      800|     11|              806|         811|            5|       0|        0|               NULL|            NULL|          NULL|         NULL|               NULL|         NULL|\n",
            "|2015|    1|  1|          4|     AA|          258|     N3HYAA|           LAX|                MIA|                 20|            15|             -5|      15|        30|           285|         281|     258|    2342|      748|      8|              805|         756|           -9|       0|        0|               NULL|            NULL|          NULL|         NULL|               NULL|         NULL|\n",
            "|2015|    1|  1|          4|     AS|          135|     N527AS|           SEA|                ANC|                 25|            24|             -1|      11|        35|           235|         215|     199|    1448|      254|      5|              320|         259|          -21|       0|        0|               NULL|            NULL|          NULL|         NULL|               NULL|         NULL|\n",
            "+----+-----+---+-----------+-------+-------------+-----------+--------------+-------------------+-------------------+--------------+---------------+--------+----------+--------------+------------+--------+--------+---------+-------+-----------------+------------+-------------+--------+---------+-------------------+----------------+--------------+-------------+-------------------+-------------+\n",
            "only showing top 5 rows\n",
            "\n"
          ]
        },
        {
          "output_type": "display_data",
          "data": {
            "text/plain": [
              "None"
            ]
          },
          "metadata": {}
        }
      ]
    },
    {
      "cell_type": "code",
      "source": [
        "from pyspark.sql.functions import avg, desc, round, col, when, concat, lit\n",
        "\n",
        "# 1. Calcula a média de atraso\n",
        "media_atrasos = df_flights.groupBy(\"AIRLINE\") \\\n",
        "    .agg(\n",
        "        round(avg(\"ARRIVAL_DELAY\"), 2).alias(\"media_atraso_chegada\")\n",
        "    )\n",
        "\n",
        "# 2. Junta com a tabela de companhias\n",
        "resultado_atrasos = media_atrasos.join(\n",
        "        df_airlines,\n",
        "        media_atrasos.AIRLINE == df_airlines.IATA_CODE\n",
        "    )\n",
        "\n",
        "# 3. Formata a coluna de resultado condicionalmente\n",
        "resultado_formatado = resultado_atrasos.withColumn(\"Resultado\",\n",
        "    when(col(\"media_atraso_chegada\") >= 0,\n",
        "         concat(col(\"media_atraso_chegada\").cast(\"string\"), lit(\" minutos\"))\n",
        "    ).otherwise(\n",
        "         col(\"media_atraso_chegada\").cast(\"string\")\n",
        "    )\n",
        ")\n",
        "\n",
        "# 4. Ordena pelo valor numérico ANTES de selecionar as colunas finais\n",
        "resultado_ordenado = resultado_formatado.orderBy(desc(\"media_atraso_chegada\"))\n",
        "\n",
        "# 5. Seleciona as colunas para exibição e mostra o resultado\n",
        "print(\"Média de Atrasos na Chegada por Companhia Aérea:\")\n",
        "resultado_ordenado.select(\n",
        "    df_airlines.AIRLINE.alias(\"NOME_DA_COMPANHIA\"),\n",
        "    \"Resultado\"\n",
        ").show()\n",
        "print(\"obs: Valores negativos significam que, na média, os voos chegaram adiantados\")"
      ],
      "metadata": {
        "colab": {
          "base_uri": "https://localhost:8080/"
        },
        "id": "ybkKjRSm2j_d",
        "outputId": "1a5028d6-3b17-4053-c952-fd47b42b18d9"
      },
      "execution_count": 54,
      "outputs": [
        {
          "output_type": "stream",
          "name": "stdout",
          "text": [
            "Média de Atrasos na Chegada por Companhia Aérea:\n",
            "+--------------------+-------------+\n",
            "|   NOME_DA_COMPANHIA|    Resultado|\n",
            "+--------------------+-------------+\n",
            "|    Spirit Air Lines|14.47 minutos|\n",
            "|Frontier Airlines...| 12.5 minutos|\n",
            "|     JetBlue Airways| 6.68 minutos|\n",
            "|Atlantic Southeas...| 6.59 minutos|\n",
            "|American Eagle Ai...| 6.46 minutos|\n",
            "|Skywest Airlines ...| 5.85 minutos|\n",
            "|United Air Lines ...| 5.43 minutos|\n",
            "|      Virgin America| 4.74 minutos|\n",
            "|Southwest Airline...| 4.37 minutos|\n",
            "|     US Airways Inc.| 3.71 minutos|\n",
            "|American Airlines...| 3.45 minutos|\n",
            "|Hawaiian Airlines...| 2.02 minutos|\n",
            "|Delta Air Lines Inc.| 0.19 minutos|\n",
            "|Alaska Airlines Inc.|        -0.98|\n",
            "+--------------------+-------------+\n",
            "\n",
            "obs: Valores negativos significam que, na média, os voos chegaram adiantados\n"
          ]
        }
      ]
    },
    {
      "cell_type": "code",
      "source": [
        "from pyspark.sql.functions import avg, round, concat, lit, lpad, col, when\n",
        "\n",
        "print(\"Média de Atraso na Chegada por Mês (formatado):\")\n",
        "\n",
        "# 1. Cria a coluna 'ANO_MES'\n",
        "df_com_data = df_flights.withColumn(\"ANO_MES\",\n",
        "    concat(col(\"YEAR\"), lit(\"-\"), lpad(col(\"MONTH\"), 2, \"0\"))\n",
        ")\n",
        "\n",
        "# 2. Calcula a média de atraso\n",
        "atraso_calculado = df_com_data.groupBy(\"ANO_MES\") \\\n",
        "    .agg(round(avg(\"ARRIVAL_DELAY\"), 2).alias(\"media_de_atraso\"))\n",
        "\n",
        "# 3. Formata a coluna de resultado condicionalmente\n",
        "resultado_final = atraso_calculado.withColumn(\"Resultado\",\n",
        "    when(col(\"media_de_atraso\") >= 0,\n",
        "         concat(col(\"media_de_atraso\").cast(\"string\"), lit(\" minutos\"))\n",
        "    ).otherwise(\n",
        "         col(\"media_de_atraso\").cast(\"string\") # Para valores negativos, mostra só o número\n",
        "    )\n",
        ").orderBy(\"ANO_MES\")\n",
        "\n",
        "resultado_final.select(\"ANO_MES\", \"Resultado\").show()\n",
        "print(\"obs: Valores negativos significam que, na média, os voos chegaram adiantados\")"
      ],
      "metadata": {
        "colab": {
          "base_uri": "https://localhost:8080/"
        },
        "id": "sjLGKQGV3DqN",
        "outputId": "1a6718bb-f000-4cea-98da-62d6ede59f68"
      },
      "execution_count": 53,
      "outputs": [
        {
          "output_type": "stream",
          "name": "stdout",
          "text": [
            "Média de Atraso na Chegada por Mês (formatado):\n",
            "+-------+------------+\n",
            "|ANO_MES|   Resultado|\n",
            "+-------+------------+\n",
            "|2015-01|5.81 minutos|\n",
            "|2015-02|8.32 minutos|\n",
            "|2015-03|4.92 minutos|\n",
            "|2015-04|3.16 minutos|\n",
            "|2015-05|4.49 minutos|\n",
            "|2015-06| 9.6 minutos|\n",
            "|2015-07|6.43 minutos|\n",
            "|2015-08|4.61 minutos|\n",
            "|2015-09|       -0.77|\n",
            "|2015-10|       -0.78|\n",
            "|2015-11| 1.1 minutos|\n",
            "|2015-12|6.09 minutos|\n",
            "+-------+------------+\n",
            "\n",
            "obs: Valores negativos significam que, na média, os voos chegaram adiantados\n"
          ]
        }
      ]
    },
    {
      "cell_type": "code",
      "source": [
        "from pyspark.sql.functions import avg, round, col, when, concat, lit, asc\n",
        "\n",
        "# 1. Calcula a média de atraso por dia da semana\n",
        "atraso_por_dia = df_flights.groupBy(\"DAY_OF_WEEK\") \\\n",
        "    .agg(round(avg(\"ARRIVAL_DELAY\"), 2).alias(\"media_atraso\"))\n",
        "\n",
        "# 2. Mapeia o número do dia para o nome correspondente\n",
        "mapeamento_dia = atraso_por_dia.withColumn(\"Dia da Semana\",\n",
        "    when(col(\"DAY_OF_WEEK\") == 1, \"Domingo\")\n",
        "    .when(col(\"DAY_OF_WEEK\") == 2, \"Segunda-feira\")\n",
        "    .when(col(\"DAY_OF_WEEK\") == 3, \"Terça-feira\")\n",
        "    .when(col(\"DAY_OF_WEEK\") == 4, \"Quarta-feira\")\n",
        "    .when(col(\"DAY_OF_WEEK\") == 5, \"Quinta-feira\")\n",
        "    .when(col(\"DAY_OF_WEEK\") == 6, \"Sexta-feira\")\n",
        "    .otherwise(\"Sábado\")\n",
        ")\n",
        "\n",
        "# 3. Formata a coluna de resultado condicionalmente\n",
        "resultado_formatado = mapeamento_dia.withColumn(\"Resultado\",\n",
        "    when(col(\"media_atraso\") >= 0,\n",
        "         concat(col(\"media_atraso\").cast(\"string\"), lit(\" minutos\"))\n",
        "    ).otherwise(\n",
        "         col(\"media_atraso\").cast(\"string\")\n",
        "    )\n",
        ")\n",
        "\n",
        "# 4. Ordena pelo menor atraso (melhor dia primeiro) e exibe\n",
        "print(\"Média de Atraso por Dia da Semana (ordenado do melhor para o pior):\")\n",
        "resultado_formatado.orderBy(asc(\"media_atraso\")).select(\"Dia da Semana\", \"Resultado\").show()"
      ],
      "metadata": {
        "colab": {
          "base_uri": "https://localhost:8080/"
        },
        "id": "60VcfV9R38SG",
        "outputId": "b7444e21-e9c1-46cd-c940-f88cbeef9534"
      },
      "execution_count": 55,
      "outputs": [
        {
          "output_type": "stream",
          "name": "stdout",
          "text": [
            "Média de Atraso por Dia da Semana (ordenado do melhor para o pior):\n",
            "+-------------+------------+\n",
            "|Dia da Semana|   Resultado|\n",
            "+-------------+------------+\n",
            "|  Sexta-feira|1.85 minutos|\n",
            "|  Terça-feira|3.85 minutos|\n",
            "|       Sábado|3.96 minutos|\n",
            "|Segunda-feira|4.25 minutos|\n",
            "| Quinta-feira|4.76 minutos|\n",
            "| Quarta-feira|5.67 minutos|\n",
            "|      Domingo| 6.0 minutos|\n",
            "+-------------+------------+\n",
            "\n"
          ]
        }
      ]
    }
  ]
}