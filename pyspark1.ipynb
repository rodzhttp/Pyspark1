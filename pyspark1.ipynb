{
  "nbformat": 4,
  "nbformat_minor": 0,
  "metadata": {
    "colab": {
      "provenance": [],
      "mount_file_id": "1afNgDoeDhaRb2ymN6fWmQMILzDDv95hg",
      "authorship_tag": "ABX9TyMlc9TolWn2aUqVnmcHEjZ8",
      "include_colab_link": true
    },
    "kernelspec": {
      "name": "python3",
      "display_name": "Python 3"
    },
    "language_info": {
      "name": "python"
    }
  },
  "cells": [
    {
      "cell_type": "markdown",
      "metadata": {
        "id": "view-in-github",
        "colab_type": "text"
      },
      "source": [
        "<a href=\"https://colab.research.google.com/github/rodzhttp/Pyspark1/blob/main/pyspark1.ipynb\" target=\"_parent\"><img src=\"https://colab.research.google.com/assets/colab-badge.svg\" alt=\"Open In Colab\"/></a>"
      ]
    },
    {
      "cell_type": "markdown",
      "source": [
        "##**< Pyspark Project >**"
      ],
      "metadata": {
        "id": "Lrf572rQsolf"
      }
    },
    {
      "cell_type": "code",
      "execution_count": null,
      "metadata": {
        "colab": {
          "base_uri": "https://localhost:8080/"
        },
        "id": "Elzsx-hRrjze",
        "outputId": "e713e5e4-b11d-49c2-e7d9-ee7f2c7d1454"
      },
      "outputs": [
        {
          "output_type": "stream",
          "name": "stdout",
          "text": [
            "Requirement already satisfied: pyspark in /usr/local/lib/python3.11/dist-packages (3.5.1)\n",
            "Requirement already satisfied: findspark in /usr/local/lib/python3.11/dist-packages (2.0.1)\n",
            "Requirement already satisfied: py4j==0.10.9.7 in /usr/local/lib/python3.11/dist-packages (from pyspark) (0.10.9.7)\n",
            "✅ Sessão Spark iniciada com sucesso!\n"
          ]
        }
      ],
      "source": [
        "# Instala as bibliotecas necessárias\n",
        "!pip install pyspark findspark\n",
        "\n",
        "# Configura o ambiente para encontrar o Spark\n",
        "import findspark\n",
        "from google.colab import drive\n",
        "findspark.init()\n",
        "\n",
        "# Inicia a \"Sessão Spark\", que é o nosso motor para processar os dados\n",
        "from pyspark.sql import SparkSession\n",
        "spark = SparkSession.builder.master(\"local[*]\").appName(\"AnaliseVoos\").getOrCreate()\n",
        "\n",
        "print(\"✅ Sessão Spark iniciada com sucesso!\")"
      ]
    },
    {
      "cell_type": "code",
      "source": [
        "# O caminho para a pasta que contém seus arquivos\n",
        "caminho_base = '/content/drive/My Drive/Colab Notebooks/Pyspark project/'\n",
        "\n",
        "# Caminho completo para cada arquivo\n",
        "caminho_flights = caminho_base + 'flights.csv'\n",
        "caminho_airlines = caminho_base + 'airlines.csv'\n",
        "caminho_airports = caminho_base + 'airports.csv'\n",
        "\n",
        "# Lendo os arquivos para DataFrames\n",
        "df_flights = spark.read.csv(caminho_flights, header=True, inferSchema=True)\n",
        "df_airlines = spark.read.csv(caminho_airlines, header=True, inferSchema=True)\n",
        "df_airports = spark.read.csv(caminho_airports, header=True, inferSchema=True)\n",
        "\n",
        "display(df_flights.show(5))"
      ],
      "metadata": {
        "colab": {
          "base_uri": "https://localhost:8080/",
          "height": 245
        },
        "id": "p4Mdb-XPuub_",
        "outputId": "d5d06c77-0ae0-4885-cb17-3517f5b3d4ef"
      },
      "execution_count": 36,
      "outputs": [
        {
          "output_type": "stream",
          "name": "stdout",
          "text": [
            "+----+-----+---+-----------+-------+-------------+-----------+--------------+-------------------+-------------------+--------------+---------------+--------+----------+--------------+------------+--------+--------+---------+-------+-----------------+------------+-------------+--------+---------+-------------------+----------------+--------------+-------------+-------------------+-------------+\n",
            "|YEAR|MONTH|DAY|DAY_OF_WEEK|AIRLINE|FLIGHT_NUMBER|TAIL_NUMBER|ORIGIN_AIRPORT|DESTINATION_AIRPORT|SCHEDULED_DEPARTURE|DEPARTURE_TIME|DEPARTURE_DELAY|TAXI_OUT|WHEELS_OFF|SCHEDULED_TIME|ELAPSED_TIME|AIR_TIME|DISTANCE|WHEELS_ON|TAXI_IN|SCHEDULED_ARRIVAL|ARRIVAL_TIME|ARRIVAL_DELAY|DIVERTED|CANCELLED|CANCELLATION_REASON|AIR_SYSTEM_DELAY|SECURITY_DELAY|AIRLINE_DELAY|LATE_AIRCRAFT_DELAY|WEATHER_DELAY|\n",
            "+----+-----+---+-----------+-------+-------------+-----------+--------------+-------------------+-------------------+--------------+---------------+--------+----------+--------------+------------+--------+--------+---------+-------+-----------------+------------+-------------+--------+---------+-------------------+----------------+--------------+-------------+-------------------+-------------+\n",
            "|2015|    1|  1|          4|     AS|           98|     N407AS|           ANC|                SEA|                  5|          2354|            -11|      21|        15|           205|         194|     169|    1448|      404|      4|              430|         408|          -22|       0|        0|               NULL|            NULL|          NULL|         NULL|               NULL|         NULL|\n",
            "|2015|    1|  1|          4|     AA|         2336|     N3KUAA|           LAX|                PBI|                 10|             2|             -8|      12|        14|           280|         279|     263|    2330|      737|      4|              750|         741|           -9|       0|        0|               NULL|            NULL|          NULL|         NULL|               NULL|         NULL|\n",
            "|2015|    1|  1|          4|     US|          840|     N171US|           SFO|                CLT|                 20|            18|             -2|      16|        34|           286|         293|     266|    2296|      800|     11|              806|         811|            5|       0|        0|               NULL|            NULL|          NULL|         NULL|               NULL|         NULL|\n",
            "|2015|    1|  1|          4|     AA|          258|     N3HYAA|           LAX|                MIA|                 20|            15|             -5|      15|        30|           285|         281|     258|    2342|      748|      8|              805|         756|           -9|       0|        0|               NULL|            NULL|          NULL|         NULL|               NULL|         NULL|\n",
            "|2015|    1|  1|          4|     AS|          135|     N527AS|           SEA|                ANC|                 25|            24|             -1|      11|        35|           235|         215|     199|    1448|      254|      5|              320|         259|          -21|       0|        0|               NULL|            NULL|          NULL|         NULL|               NULL|         NULL|\n",
            "+----+-----+---+-----------+-------+-------------+-----------+--------------+-------------------+-------------------+--------------+---------------+--------+----------+--------------+------------+--------+--------+---------+-------+-----------------+------------+-------------+--------+---------+-------------------+----------------+--------------+-------------+-------------------+-------------+\n",
            "only showing top 5 rows\n",
            "\n"
          ]
        },
        {
          "output_type": "display_data",
          "data": {
            "text/plain": [
              "None"
            ]
          },
          "metadata": {}
        }
      ]
    },
    {
      "cell_type": "code",
      "source": [
        "from pyspark.sql.functions import avg, desc, round\n",
        "\n",
        "# Esta primeira parte está correta\n",
        "media_atrasos = df_flights.groupBy(\"AIRLINE\") \\\n",
        "    .agg(\n",
        "        round(avg(\"ARRIVAL_DELAY\"), 2).alias(\"media_atraso_chegada\")\n",
        "    )\n",
        "\n",
        "# O join também está correto\n",
        "resultado_atrasos = media_atrasos.join(\n",
        "        df_airlines,\n",
        "        media_atrasos.AIRLINE == df_airlines.IATA_CODE\n",
        "    ) \\\n",
        "    .orderBy(desc(\"media_atraso_chegada\"))\n",
        "\n",
        "# --- CORREÇÃO AQUI ---\n",
        "# No select, especificamos que queremos a coluna \"AIRLINE\" que veio de df_airlines\n",
        "# e damos a ela um novo nome ('alias') para o resultado ficar mais claro.\n",
        "print(\"Média de Atrasos na Chegada (em minutos) por Companhia Aérea:\")\n",
        "resultado_atrasos.select(\n",
        "    df_airlines.AIRLINE.alias(\"NOME_DA_COMPANHIA\"),\n",
        "    \"media_atraso_chegada\"\n",
        ").show()"
      ],
      "metadata": {
        "colab": {
          "base_uri": "https://localhost:8080/"
        },
        "id": "ybkKjRSm2j_d",
        "outputId": "295125e2-b6b9-4fa6-d88d-cd77e4403a34"
      },
      "execution_count": 38,
      "outputs": [
        {
          "output_type": "stream",
          "name": "stdout",
          "text": [
            "Média de Atrasos na Chegada (em minutos) por Companhia Aérea:\n",
            "+--------------------+--------------------+\n",
            "|   NOME_DA_COMPANHIA|media_atraso_chegada|\n",
            "+--------------------+--------------------+\n",
            "|    Spirit Air Lines|               14.47|\n",
            "|Frontier Airlines...|                12.5|\n",
            "|     JetBlue Airways|                6.68|\n",
            "|Atlantic Southeas...|                6.59|\n",
            "|American Eagle Ai...|                6.46|\n",
            "|Skywest Airlines ...|                5.85|\n",
            "|United Air Lines ...|                5.43|\n",
            "|      Virgin America|                4.74|\n",
            "|Southwest Airline...|                4.37|\n",
            "|     US Airways Inc.|                3.71|\n",
            "|American Airlines...|                3.45|\n",
            "|Hawaiian Airlines...|                2.02|\n",
            "|Delta Air Lines Inc.|                0.19|\n",
            "|Alaska Airlines Inc.|               -0.98|\n",
            "+--------------------+--------------------+\n",
            "\n"
          ]
        }
      ]
    }
  ]
}